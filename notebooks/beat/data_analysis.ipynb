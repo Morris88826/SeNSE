{
 "cells": [
  {
   "cell_type": "code",
   "execution_count": 1,
   "metadata": {},
   "outputs": [],
   "source": [
    "import os\n",
    "import sys\n",
    "sys.path.append('../../')\n",
    "import numpy as np\n",
    "import pandas as pd\n",
    "import matplotlib.pyplot as plt\n",
    "from libs.utils import filter_glucose_by_range, filter_noisy_data"
   ]
  },
  {
   "cell_type": "code",
   "execution_count": 2,
   "metadata": {},
   "outputs": [],
   "source": [
    "data_root = \"/mnt/data2/mtseng/dataset/SeNSE/TCH_processed/beat\"\n",
    "subject_id = 'c1s01'"
   ]
  },
  {
   "cell_type": "code",
   "execution_count": 3,
   "metadata": {},
   "outputs": [
    {
     "name": "stdout",
     "output_type": "stream",
     "text": [
      "                                                Time  \\\n",
      "0  [2022-06-08T13:32:56.877000000, 2022-06-08T13:...   \n",
      "1  [2022-06-08T13:32:59.081000000, 2022-06-08T13:...   \n",
      "2  [2022-06-08T13:33:02.305000000, 2022-06-08T13:...   \n",
      "3  [2022-06-08T13:33:04.585000000, 2022-06-08T13:...   \n",
      "4  [2022-06-08T13:33:05.681000000, 2022-06-08T13:...   \n",
      "\n",
      "                                         EcgWaveform  \\\n",
      "0  [2007, 2007, 2007, 2008, 2008, 2009, 2008, 200...   \n",
      "1  [2018, 2018, 2019, 2020, 2020, 2020, 2019, 201...   \n",
      "2  [2027, 2027, 2026, 2026, 2026, 2027, 2028, 202...   \n",
      "3  [2031, 2030, 2029, 2029, 2029, 2029, 2030, 203...   \n",
      "4  [2031, 2031, 2031, 2032, 2032, 2032, 2032, 203...   \n",
      "\n",
      "                                                  HR  glucose  CGM_idx  \\\n",
      "0  [0, 0, 0, 0, 0, 0, 0, 0, 0, 0, 0, 0, 0, 0, 0, ...    132.0  19134.0   \n",
      "1  [0, 0, 0, 0, 0, 0, 0, 0, 0, 0, 0, 0, 0, 0, 0, ...    132.0  19134.0   \n",
      "2  [0, 0, 0, 0, 0, 0, 0, 0, 0, 0, 0, 0, 0, 0, 0, ...    132.0  19134.0   \n",
      "3  [0, 0, 0, 0, 0, 0, 0, 0, 0, 0, 0, 0, 0, 0, 0, ...    132.0  19134.0   \n",
      "4  [0, 0, 0, 0, 0, 0, 0, 0, 0, 0, 0, 0, 0, 0, 0, ...    132.0  19134.0   \n",
      "\n",
      "   HRConfidence  ECGNoise  r_peak           Timestamp  \n",
      "0           0.0   0.00002     416 2022-06-08 13:33:48  \n",
      "1           0.0   0.00002      66 2022-06-08 13:33:48  \n",
      "2           0.0   0.00002     369 2022-06-08 13:33:48  \n",
      "3           0.0   0.00002      99 2022-06-08 13:33:48  \n",
      "4           0.0   0.00002      86 2022-06-08 13:33:48  \n",
      "(893806, 9)\n"
     ]
    }
   ],
   "source": [
    "df = pd.read_pickle(os.path.join(data_root, f\"{subject_id}.pkl\"))\n",
    "print(df.head())\n",
    "print(df.shape)"
   ]
  },
  {
   "cell_type": "markdown",
   "metadata": {},
   "source": [
    "### Filter the signal"
   ]
  },
  {
   "cell_type": "markdown",
   "metadata": {},
   "source": [
    "#### Filter out the part that are not in the desired range of glucose value\n",
    "\n",
    "* Hypoglycemic range: 40 ~ 70 (mg/dL)\n",
    "* Normal range: 70 ~ 180 (mg/dL)"
   ]
  },
  {
   "cell_type": "code",
   "execution_count": 4,
   "metadata": {},
   "outputs": [
    {
     "name": "stdout",
     "output_type": "stream",
     "text": [
      "Glucose Level Filtering (remove beats with glucose value outside 40-180 mg/dl ):\n",
      " - Original count:  893806\n",
      " - Filtered count:  831519\n",
      " - Availability ratio: 0.930\n"
     ]
    }
   ],
   "source": [
    "# only select those in proper range of glucose (40-180)\n",
    "filtered_df = filter_glucose_by_range(df)"
   ]
  },
  {
   "cell_type": "markdown",
   "metadata": {},
   "source": [
    "#### Filter out the noisy data according to the HRConfidence and ECGNoise\n",
    "\n",
    "For a clean signal, it must satisfies:\n",
    "* HRConfidence >= 100\n",
    "* ECGNoise < 0.001"
   ]
  },
  {
   "cell_type": "code",
   "execution_count": 5,
   "metadata": {},
   "outputs": [
    {
     "name": "stdout",
     "output_type": "stream",
     "text": [
      "Filter out noisy data (HRConfidence < 100 or ECGNoise > 0.001):\n",
      " - Original:  831519\n",
      " - Filtered:  693147\n",
      " - Availability Ratio: 0.834\n"
     ]
    }
   ],
   "source": [
    "clean_df = filter_noisy_data(filtered_df)"
   ]
  },
  {
   "cell_type": "markdown",
   "metadata": {},
   "source": [
    "### Data Statistics"
   ]
  },
  {
   "cell_type": "markdown",
   "metadata": {},
   "source": [
    "#### Entire Day"
   ]
  },
  {
   "cell_type": "code",
   "execution_count": 6,
   "metadata": {},
   "outputs": [
    {
     "name": "stdout",
     "output_type": "stream",
     "text": [
      "Percentage of clean hypo CGM readings: 0.056\n",
      "Percentage of hypo CGM readings in the clean data: 0.067\n",
      "Average glucose level below 70 mg/dl: 59.96\n",
      "Average glucose level above 70 mg/dl: 112.74\n",
      "Average HR: 75.28\n"
     ]
    }
   ],
   "source": [
    "# Percentage of CGM readings below 70 mg/dl\n",
    "hypo_threshold = 70\n",
    "cgm_hypo = clean_df[clean_df['glucose'] < hypo_threshold]\n",
    "cgm_normal = clean_df[clean_df['glucose'] >= hypo_threshold]\n",
    "\n",
    "average_hypo_glucose = cgm_hypo['glucose'].mean()\n",
    "average_normal_glucose = cgm_normal['glucose'].mean()\n",
    "average_hr = clean_df['avg_HR'].mean()\n",
    "\n",
    "print('Percentage of clean hypo CGM readings: {:.3f}'.format(len(cgm_hypo) / len(filtered_df)))\n",
    "print('Percentage of hypo CGM readings in the clean data: {:.3f}'.format(len(cgm_hypo) / len(clean_df)))\n",
    "print('Average glucose level below 70 mg/dl: {:.2f}'.format(average_hypo_glucose))\n",
    "print('Average glucose level above 70 mg/dl: {:.2f}'.format(average_normal_glucose))\n",
    "print('Average HR: {:.2f}'.format(average_hr))"
   ]
  },
  {
   "cell_type": "markdown",
   "metadata": {},
   "source": [
    "#### Nocturnal"
   ]
  },
  {
   "cell_type": "code",
   "execution_count": 7,
   "metadata": {},
   "outputs": [
    {
     "name": "stdout",
     "output_type": "stream",
     "text": [
      "                                                    Time  \\\n",
      "64267  [2022-06-10T03:40:19.058000000, 2022-06-10T03:...   \n",
      "64268  [2022-06-10T03:40:20.070000000, 2022-06-10T03:...   \n",
      "64269  [2022-06-10T03:40:21.046000000, 2022-06-10T03:...   \n",
      "64270  [2022-06-10T03:40:21.998000000, 2022-06-10T03:...   \n",
      "64271  [2022-06-10T03:40:23.018000000, 2022-06-10T03:...   \n",
      "\n",
      "                                             EcgWaveform  \\\n",
      "64267  [2028, 2028, 2027, 2026, 2026, 2028, 2030, 203...   \n",
      "64268  [2030, 2031, 2032, 2034, 2034, 2034, 2032, 203...   \n",
      "64269  [2035, 2035, 2034, 2034, 2033, 2032, 2032, 203...   \n",
      "64270  [2031, 2033, 2033, 2033, 2033, 2033, 2032, 203...   \n",
      "64271  [2032, 2032, 2030, 2030, 2031, 2032, 2034, 203...   \n",
      "\n",
      "                                                      HR  glucose  CGM_idx  \\\n",
      "64267  [56, 56, 56, 56, 56, 56, 56, 56, 56, 56, 56, 5...     86.0  19596.0   \n",
      "64268  [58, 58, 58, 58, 58, 58, 58, 58, 58, 58, 58, 5...     86.0  19596.0   \n",
      "64269  [60, 60, 60, 60, 60, 60, 60, 60, 60, 60, 60, 6...     86.0  19596.0   \n",
      "64270  [62, 62, 62, 62, 62, 62, 62, 62, 62, 62, 62, 6...     86.0  19596.0   \n",
      "64271  [59, 59, 59, 59, 59, 59, 59, 59, 59, 59, 59, 5...     86.0  19596.0   \n",
      "\n",
      "       HRConfidence  ECGNoise  r_peak           Timestamp  avg_HR  \n",
      "64267         100.0   0.00008      88 2022-06-10 03:43:53    56.0  \n",
      "64268         100.0   0.00008      81 2022-06-10 03:43:53    58.0  \n",
      "64269         100.0   0.00008      80 2022-06-10 03:43:53    60.0  \n",
      "64270         100.0   0.00008      78 2022-06-10 03:43:53    62.0  \n",
      "64271         100.0   0.00008      88 2022-06-10 03:43:53    59.0  \n",
      "(163416, 10)\n"
     ]
    }
   ],
   "source": [
    "# Hypoglycemic readings at night (12-7am)\n",
    "night_cgm = clean_df[(clean_df['Timestamp'].dt.hour >= 0) & (clean_df['Timestamp'].dt.hour < 7)]\n",
    "print(night_cgm.head())\n",
    "print(night_cgm.shape)"
   ]
  },
  {
   "cell_type": "code",
   "execution_count": 8,
   "metadata": {},
   "outputs": [
    {
     "name": "stdout",
     "output_type": "stream",
     "text": [
      "Percentage of night CGM readings: 0.236\n",
      "Percentage of night CGM readings that is hypo: 0.198\n"
     ]
    }
   ],
   "source": [
    "# percentage of night hypoglycemic readings given all hypoglycemic readings\n",
    "night_cgm_hypo = night_cgm[night_cgm['glucose'] < hypo_threshold]\n",
    "print('Percentage of night CGM readings: {:.3f}'.format(len(night_cgm) / len(clean_df)))\n",
    "print('Percentage of night CGM readings that is hypo: {:.3f}'.format(len(night_cgm_hypo) / len(cgm_hypo)))"
   ]
  },
  {
   "cell_type": "markdown",
   "metadata": {},
   "source": [
    "### Glucose Distribution"
   ]
  },
  {
   "cell_type": "code",
   "execution_count": 9,
   "metadata": {},
   "outputs": [
    {
     "data": {
      "image/png": "[encoded data removed]",
      "text/plain": [
       "<Figure size 640x480 with 1 Axes>"
      ]
     },
     "metadata": {},
     "output_type": "display_data"
    }
   ],
   "source": [
    "# generate the histogram of glucose levels\n",
    "bins = np.arange(40, 180, 5)\n",
    "hist, _ = np.histogram(clean_df['glucose'], bins=bins, density=True)\n",
    "\n",
    "plt.bar(bins[:-1], hist, width=5)\n",
    "plt.xlabel('Glucose Level (mg/dl)')\n",
    "plt.ylabel('Frequency')\n",
    "plt.title('Histogram of Glucose Levels - Subject {}'.format(subject_id))\n",
    "plt.show()\n"
   ]
  },
  {
   "cell_type": "code",
   "execution_count": null,
   "metadata": {},
   "outputs": [],
   "source": []
  }
 ],
 "metadata": {
  "kernelspec": {
   "display_name": "ecg",
   "language": "python",
   "name": "python3"
  },
  "language_info": {
   "codemirror_mode": {
    "name": "ipython",
    "version": 3
   },
   "file_extension": ".py",
   "mimetype": "text/x-python",
   "name": "python",
   "nbconvert_exporter": "python",
   "pygments_lexer": "ipython3",
   "version": "3.11.5"
  }
 },
 "nbformat": 4,
 "nbformat_minor": 2
}
