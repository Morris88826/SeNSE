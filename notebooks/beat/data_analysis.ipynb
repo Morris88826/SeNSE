{
 "cells": [
  {
   "cell_type": "code",
   "execution_count": 79,
   "metadata": {},
   "outputs": [],
   "source": [
    "import os\n",
    "import sys\n",
    "sys.path.append('../../')\n",
    "import numpy as np\n",
    "import pandas as pd\n",
    "import matplotlib.pyplot as plt\n",
    "from libs.utils import filter_glucose_by_range, filter_noisy_data"
   ]
  },
  {
   "cell_type": "code",
   "execution_count": 80,
   "metadata": {},
   "outputs": [],
   "source": [
    "data_root = \"/mnt/data2/mtseng/dataset/SeNSE/TCH_processed/beat\"\n",
    "subject_id = 'c2s04'"
   ]
  },
  {
   "cell_type": "code",
   "execution_count": 81,
   "metadata": {},
   "outputs": [
    {
     "name": "stdout",
     "output_type": "stream",
     "text": [
      "                                                Time  \\\n",
      "0  [2022-10-30T23:22:06.674000000, 2022-10-30T23:...   \n",
      "1  [2022-10-30T23:22:07.422000000, 2022-10-30T23:...   \n",
      "2  [2022-10-30T23:22:08.154000000, 2022-10-30T23:...   \n",
      "3  [2022-10-30T23:22:08.910000000, 2022-10-30T23:...   \n",
      "4  [2022-10-30T23:22:09.690000000, 2022-10-30T23:...   \n",
      "\n",
      "                                         EcgWaveform  \\\n",
      "0  [2175, 2175, 2173, 2172, 2170, 2169, 2168, 216...   \n",
      "1  [2090, 2089, 2089, 2088, 2088, 2088, 2088, 208...   \n",
      "2  [2085, 2084, 2084, 2084, 2083, 2083, 2082, 208...   \n",
      "3  [2064, 2064, 2064, 2064, 2064, 2064, 2064, 206...   \n",
      "4  [2047, 2047, 2046, 2045, 2045, 2045, 2046, 204...   \n",
      "\n",
      "                                                  HR  glucose  CGM_idx  \\\n",
      "0  [65, 65, 65, 65, 65, 65, 65, 65, 65, 65, 65, 6...    171.0  20383.0   \n",
      "1  [65, 65, 65, 65, 65, 65, 65, 65, 65, 65, 65, 6...    171.0  20383.0   \n",
      "2  [57, 57, 57, 57, 57, 57, 57, 57, 57, 57, 57, 5...    171.0  20383.0   \n",
      "3  [57, 57, 57, 57, 57, 57, 57, 57, 57, 57, 57, 6...    171.0  20383.0   \n",
      "4  [61, 61, 61, 61, 61, 61, 61, 61, 61, 61, 61, 6...    171.0  20383.0   \n",
      "\n",
      "   HRConfidence  ECGNoise  r_peak           Timestamp  \n",
      "0           0.0  0.000547      62 2022-10-30 23:26:34  \n",
      "1           0.0  0.000504      61 2022-10-30 23:26:34  \n",
      "2           0.0  0.000400      60 2022-10-30 23:26:34  \n",
      "3           0.0  0.000288      64 2022-10-30 23:26:34  \n",
      "4           0.0  0.000232      65 2022-10-30 23:26:34  \n",
      "(1542725, 9)\n"
     ]
    }
   ],
   "source": [
    "df = pd.read_pickle(os.path.join(data_root, f\"{subject_id}.pkl\"))\n",
    "print(df.head())\n",
    "print(df.shape)"
   ]
  },
  {
   "cell_type": "markdown",
   "metadata": {},
   "source": [
    "### Filter the signal"
   ]
  },
  {
   "cell_type": "markdown",
   "metadata": {},
   "source": [
    "#### Filter out the part that are not in the desired range of glucose value\n",
    "\n",
    "* Hypoglycemic range: 40 ~ 70 (mg/dL)\n",
    "* Normal range: 70 ~ 180 (mg/dL)"
   ]
  },
  {
   "cell_type": "code",
   "execution_count": 82,
   "metadata": {},
   "outputs": [
    {
     "name": "stdout",
     "output_type": "stream",
     "text": [
      "Glucose Level Filtering (remove beats with glucose value outside 40-180 mg/dl ):\n",
      " - Original count:  1542725\n",
      " - Filtered count:  1327402\n",
      " - Availability ratio: 0.860\n"
     ]
    }
   ],
   "source": [
    "# only select those in proper range of glucose (40-180)\n",
    "filtered_df = filter_glucose_by_range(df)"
   ]
  },
  {
   "cell_type": "markdown",
   "metadata": {},
   "source": [
    "#### Filter out the noisy data according to the HRConfidence and ECGNoise\n",
    "\n",
    "For a clean signal, it must satisfies:\n",
    "* HRConfidence >= 100\n",
    "* ECGNoise < 0.001"
   ]
  },
  {
   "cell_type": "code",
   "execution_count": 83,
   "metadata": {},
   "outputs": [
    {
     "name": "stdout",
     "output_type": "stream",
     "text": [
      "Filter out noisy data (HRConfidence < 100 or ECGNoise >= 0.001):\n",
      " - Original:  1327402\n",
      " - Filtered:  1244311\n",
      " - Availability Ratio: 0.937\n"
     ]
    }
   ],
   "source": [
    "clean_df = filter_noisy_data(filtered_df)"
   ]
  },
  {
   "cell_type": "markdown",
   "metadata": {},
   "source": [
    "### Data Statistics\n",
    "\n",
    "We define $G$ and $E$ as the set of glucose and ECG respectively.\n",
    "1. Average glucose in $hg$ (hypoglycemia)\n",
    "$$\n",
    "    \\text{Average glucose in } hg = \\bar G_{hg} = \\frac{1}{|G_{hg}|}\\sum_{g_i \\in G_{hg}} g_i \\text{, where } G_{hg} = \\{g\\in G | g < 70\\}\n",
    "$$\n",
    "2. Average glucose in $eg$ (euglycemia)\n",
    "$$\n",
    "    \\text{Average glucose in } eg = \\bar G_{eg} = \\frac{1}{|G_{eg}|}\\sum_{g_i \\in G_{eg}} g_i \\text{, where } G_{eg} = \\{g\\in G | 70 \\leq g \\leq 180 \\}\n",
    "$$\n",
    "3. Percentage of $hg$ CGM in CGM\n",
    "$$\n",
    "    \\text{Percentage of } hg = \\frac{\\# hg}{\\# hg + \\# eg} = \\frac{|G_{hg}|}{|G_{hg}|+|G_{eg}|}\n",
    "$$\n",
    "4. Percentage of nocturnal $hg$ CGM\n",
    "$$\n",
    "    \\text{Percentage of nocturnal } hg = \\frac{\\# hg \\text{ during nocturnal}}{\\# hg} = \\frac{|G_{hg_n}|}{|G_{hg}|}\\text{, where } G_{hg_n} = \\{g\\in G_{hg} | 0\\leq ts(g).hr <7 \\} \n",
    "$$\n",
    "5. Average diurnal HR (heart rate)\n",
    "$$\n",
    "    \\text{Average diurnal HR} = \\bar{HR_d} = \\frac{1}{|G_{d}|}\\sum_{g_i \\in G_{d}} HR(g_i) \\text{, where } G_{d} = \\{g\\in G | 7\\leq ts(g).hr <24 \\} \n",
    "$$\n",
    "6. Average nocturnal heart rate  \n",
    "$$\n",
    "    \\text{Average nocturnal HR} = \\bar{HR_n} = \\frac{1}{|G_{n}|}\\sum_{g_i \\in G_{n}} HR(g_i) \\text{, where } G_{n} = \\{g\\in G | 0\\leq ts(g).hr <7 \\} \n",
    "$$\n",
    "7. Percentage of clean $eg$ ECG beat in $eg$ ECG beats\n",
    "$$\n",
    "    \\text{\\% clean } eg \\text{ ECG beats} = \\frac{\\# \\text{clean } eg \\text{ ECG}}{\\# eg\\text{ ECG}} = \\frac{|E^{c}_{eg}|}{|E_{eg}|}\\text{, where } E^{c}_{eg} = \\{e\\in E_{eg} | (HRC(e) \\geq 100) \\text{ and } (Noise(e)<0.001) \\} \n",
    "$$\n",
    "8. Percentage of clean $hg$ ECG beat in $hg$ ECG beats\n",
    "$$\n",
    "    \\text{\\% clean } hg \\text{ ECG beats} = \\frac{\\# \\text{clean } hg \\text{ ECG}}{\\# hg\\text{ ECG}} = \\frac{|E^{c}_{hg}|}{|E_{hg}|}\\text{, where } E^{c}_{hg} = \\{e\\in E_{hg} | (HRC(e) \\geq 100) \\text{ and } (Noise(e)<0.001) \\} \n",
    "$$\n"
   ]
  },
  {
   "cell_type": "markdown",
   "metadata": {},
   "source": [
    "#### CGM-Level"
   ]
  },
  {
   "cell_type": "code",
   "execution_count": 84,
   "metadata": {},
   "outputs": [],
   "source": [
    "hypo_threshold = 70\n",
    "df_glucose = filtered_df.drop_duplicates(subset='Timestamp', keep='first')"
   ]
  },
  {
   "cell_type": "code",
   "execution_count": 85,
   "metadata": {},
   "outputs": [
    {
     "name": "stdout",
     "output_type": "stream",
     "text": [
      "Average glucose in hg: 55.31\n",
      "Average glucose in eg: 123.00\n",
      "Percentage of HG readings: 0.0398\n",
      "Percentage of nocturnal HG readings 0.5038\n"
     ]
    }
   ],
   "source": [
    "# average glucose in hg\n",
    "average_glucose_in_hg = df_glucose[df_glucose['glucose'] < hypo_threshold]['glucose'].mean()\n",
    "print('Average glucose in hg: {:.2f}'.format(average_glucose_in_hg))\n",
    "average_glucose_in_eg = df_glucose[df_glucose['glucose'] >= hypo_threshold]['glucose'].mean()\n",
    "print('Average glucose in eg: {:.2f}'.format(average_glucose_in_eg))\n",
    "num_glucose_in_hg = df_glucose[df_glucose['glucose'] < hypo_threshold].shape[0]\n",
    "num_glucose_in_eg = df_glucose[df_glucose['glucose'] >= hypo_threshold].shape[0]\n",
    "print('Percentage of HG readings: {:.4f}'.format(num_glucose_in_hg / (num_glucose_in_hg + num_glucose_in_eg)))\n",
    "\n",
    "# Hypoglycemic readings at night (12-7am)\n",
    "nocturnal_hg = df_glucose[(df_glucose['Timestamp'].dt.hour >= 0) & (df_glucose['Timestamp'].dt.hour < 7)]\n",
    "num_nocturnal_glucose_in_hg = nocturnal_hg[nocturnal_hg['glucose'] < 70].shape[0]\n",
    "print('Percentage of nocturnal HG readings {:.4f}'.format(num_nocturnal_glucose_in_hg / num_glucose_in_hg))\n"
   ]
  },
  {
   "cell_type": "markdown",
   "metadata": {},
   "source": [
    "#### Beat-Level"
   ]
  },
  {
   "cell_type": "code",
   "execution_count": 86,
   "metadata": {},
   "outputs": [
    {
     "name": "stdout",
     "output_type": "stream",
     "text": [
      "Average diurnal HR: 87.52\n",
      "Average nocturnal HR: 75.15\n",
      "Percentage of clean eg ECG beats out of all eg ECG beats: 0.9362\n",
      "Percentage of clean hg ECG beats out of all hg ECG beats: 0.9664\n"
     ]
    }
   ],
   "source": [
    "# Percentage of CGM readings below 70 mg/dl\n",
    "eg_ecg = filtered_df[filtered_df['glucose'] >= hypo_threshold]\n",
    "hg_ecg = filtered_df[filtered_df['glucose'] < hypo_threshold]\n",
    "clean_eg_ecg = clean_df[clean_df['glucose'] >= hypo_threshold]\n",
    "clean_hg_ecg = clean_df[clean_df['glucose'] < hypo_threshold]\n",
    "\n",
    "# Hypoglycemic readings at night (12-7am)\n",
    "diurnal_cgm = filtered_df[(filtered_df['Timestamp'].dt.hour >= 7) & (filtered_df['Timestamp'].dt.hour < 24)]\n",
    "night_cgm = filtered_df[(filtered_df['Timestamp'].dt.hour >= 0) & (filtered_df['Timestamp'].dt.hour < 7)]\n",
    "night_clean_cgm = clean_df[(clean_df['Timestamp'].dt.hour >= 0) & (clean_df['Timestamp'].dt.hour < 7)]\n",
    "\n",
    "print('Average diurnal HR: {:.2f}'.format(diurnal_cgm['HR'].apply(lambda x: np.mean(x)).mean()))\n",
    "print('Average nocturnal HR: {:.2f}'.format(night_cgm['HR'].apply(lambda x: np.mean(x)).mean()))\n",
    "# print('Percentage of ECG beats that pass QC: {:.4f}'.format(len(clean_df) / len(filtered_df)))\n",
    "# print('Percentage of hypo ECG beats that pass QC: {:.4f}'.format(len(cgm_hypo) / len(clean_df)))\n",
    "# print('Percentage of nocturnal ECG beats that pass QC: {:.4f}'.format(len(night_clean_cgm) / len(clean_df)))\n",
    "print('Percentage of clean eg ECG beats out of all eg ECG beats: {:.4f}'.format(len(clean_eg_ecg) / len(eg_ecg)))\n",
    "print('Percentage of clean hg ECG beats out of all hg ECG beats: {:.4f}'.format(len(clean_hg_ecg) / len(hg_ecg)))\n"
   ]
  },
  {
   "cell_type": "markdown",
   "metadata": {},
   "source": [
    "### Glucose Distribution"
   ]
  },
  {
   "cell_type": "code",
   "execution_count": 87,
   "metadata": {},
   "outputs": [
    {
     "data": {
      "image/png": "[encoded data removed]",
      "text/plain": [
       "<Figure size 640x480 with 1 Axes>"
      ]
     },
     "metadata": {},
     "output_type": "display_data"
    }
   ],
   "source": [
    "# generate the histogram of glucose levels\n",
    "bins = np.arange(40, 180, 5)\n",
    "hist, _ = np.histogram(clean_df['glucose'], bins=bins, density=True)\n",
    "\n",
    "plt.bar(bins[:-1], hist, width=5)\n",
    "plt.xlabel('Glucose Level (mg/dl)')\n",
    "plt.ylabel('Frequency')\n",
    "plt.title('Histogram of Glucose Levels - Subject {}'.format(subject_id))\n",
    "plt.show()\n"
   ]
  },
  {
   "cell_type": "code",
   "execution_count": null,
   "metadata": {},
   "outputs": [],
   "source": []
  }
 ],
 "metadata": {
  "kernelspec": {
   "display_name": "ecg",
   "language": "python",
   "name": "python3"
  },
  "language_info": {
   "codemirror_mode": {
    "name": "ipython",
    "version": 3
   },
   "file_extension": ".py",
   "mimetype": "text/x-python",
   "name": "python",
   "nbconvert_exporter": "python",
   "pygments_lexer": "ipython3",
   "version": "3.11.5"
  }
 },
 "nbformat": 4,
 "nbformat_minor": 2
}
