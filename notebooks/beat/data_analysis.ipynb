{
 "cells": [
  {
   "cell_type": "code",
   "execution_count": 1,
   "metadata": {},
   "outputs": [],
   "source": [
    "import os\n",
    "import sys\n",
    "sys.path.append('../../')\n",
    "import numpy as np\n",
    "import pandas as pd\n",
    "import matplotlib.pyplot as plt\n",
    "from libs.utils import filter_glucose_by_range, filter_noisy_data"
   ]
  },
  {
   "cell_type": "code",
   "execution_count": 2,
   "metadata": {},
   "outputs": [],
   "source": [
    "data_root = \"/mnt/data2/mtseng/dataset/SeNSE/TCH_processed/beat\"\n",
    "subject_id = 'c2s05'"
   ]
  },
  {
   "cell_type": "code",
   "execution_count": 3,
   "metadata": {},
   "outputs": [
    {
     "name": "stdout",
     "output_type": "stream",
     "text": [
      "                                                Time  \\\n",
      "0  [2022-11-28T10:33:07.623000000, 2022-11-28T10:...   \n",
      "1  [2022-11-28T10:33:08.443000000, 2022-11-28T10:...   \n",
      "2  [2022-11-28T10:33:09.383000000, 2022-11-28T10:...   \n",
      "3  [2022-11-28T10:33:10.323000000, 2022-11-28T10:...   \n",
      "4  [2022-11-28T10:33:11.259000000, 2022-11-28T10:...   \n",
      "\n",
      "                                         EcgWaveform  \\\n",
      "0  [3139, 3129, 3119, 3111, 3107, 3104, 3104, 310...   \n",
      "1  [1705, 1703, 1700, 1698, 1696, 1694, 1692, 168...   \n",
      "2  [1872, 1872, 1874, 1875, 1876, 1876, 1877, 187...   \n",
      "3  [1936, 1937, 1939, 1941, 1944, 1945, 1946, 194...   \n",
      "4  [1933, 1933, 1933, 1935, 1936, 1938, 1940, 194...   \n",
      "\n",
      "                                                  HR  glucose  CGM_idx  \\\n",
      "0  [65, 65, 65, 65, 65, 65, 65, 65, 65, 65, 65, 6...    114.0  20671.0   \n",
      "1  [65, 65, 65, 65, 65, 65, 65, 65, 65, 65, 65, 6...    114.0  20671.0   \n",
      "2  [65, 65, 65, 65, 65, 65, 65, 65, 65, 65, 65, 6...    114.0  20671.0   \n",
      "3  [60, 60, 60, 60, 60, 60, 60, 60, 60, 60, 60, 6...    114.0  20671.0   \n",
      "4  [59, 59, 59, 59, 59, 59, 59, 59, 59, 59, 59, 5...    114.0  20671.0   \n",
      "\n",
      "   HRConfidence  ECGNoise  r_peak           Timestamp  \n",
      "0           0.0  0.000730      44 2022-11-28 10:34:25  \n",
      "1           0.0  0.000504      79 2022-11-28 10:34:25  \n",
      "2           0.0  0.000408      77 2022-11-28 10:34:25  \n",
      "3           0.0  0.000316      78 2022-11-28 10:34:25  \n",
      "4           0.0  0.000296      77 2022-11-28 10:34:25  \n",
      "(1231148, 9)\n"
     ]
    }
   ],
   "source": [
    "df = pd.read_pickle(os.path.join(data_root, f\"{subject_id}.pkl\"))\n",
    "print(df.head())\n",
    "print(df.shape)"
   ]
  },
  {
   "cell_type": "markdown",
   "metadata": {},
   "source": [
    "### Filter the signal"
   ]
  },
  {
   "cell_type": "markdown",
   "metadata": {},
   "source": [
    "#### Filter out the part that are not in the desired range of glucose value\n",
    "\n",
    "* Hypoglycemic range: 40 ~ 70 (mg/dL)\n",
    "* Normal range: 70 ~ 180 (mg/dL)"
   ]
  },
  {
   "cell_type": "code",
   "execution_count": 4,
   "metadata": {},
   "outputs": [
    {
     "name": "stdout",
     "output_type": "stream",
     "text": [
      "Glucose Level Filtering (remove beats with glucose value outside 40-180 mg/dl ):\n",
      " - Original count:  1231148\n",
      " - Filtered count:  1172693\n",
      " - Availability ratio: 0.953\n"
     ]
    }
   ],
   "source": [
    "# only select those in proper range of glucose (40-180)\n",
    "filtered_df = filter_glucose_by_range(df)"
   ]
  },
  {
   "cell_type": "markdown",
   "metadata": {},
   "source": [
    "#### Filter out the noisy data according to the HRConfidence and ECGNoise\n",
    "\n",
    "For a clean signal, it must satisfies:\n",
    "* HRConfidence >= 100\n",
    "* ECGNoise < 0.001"
   ]
  },
  {
   "cell_type": "code",
   "execution_count": 5,
   "metadata": {},
   "outputs": [
    {
     "name": "stdout",
     "output_type": "stream",
     "text": [
      "Filter out noisy data (HRConfidence < 100 or ECGNoise >= 0.001):\n",
      " - Original:  1172693\n",
      " - Filtered:  882460\n",
      " - Availability Ratio: 0.753\n"
     ]
    }
   ],
   "source": [
    "clean_df = filter_noisy_data(filtered_df)"
   ]
  },
  {
   "cell_type": "markdown",
   "metadata": {},
   "source": [
    "### Data Statistics\n",
    "\n",
    "We define $G$ and $E$ as the set of glucose and ECG respectively.\n",
    "1. Average glucose in HG\n",
    "$$\n",
    "    \\text{Average glucose in HG} = \\bar G_{HG} = \\frac{1}{|G_{HG}|}\\sum_{g_i \\in G_{HG}} g_i \\text{, where } G_{HG} = \\{g\\in G | g < 70\\}\n",
    "$$\n",
    "2. Average glucose in EG\n",
    "$$\n",
    "    \\text{Average glucose in EG} = \\bar G_{EG} = \\frac{1}{|G_{EG}|}\\sum_{g_i \\in G_{EG}} g_i \\text{, where } G_{EG} = \\{g\\in G | g \\geq 70\\}\n",
    "$$\n",
    "3. Percentage of HG readings\n",
    "$$\n",
    "    \\text{Percentage of HG} = \\frac{\\# hg}{\\# hg + \\# eg} = \\frac{|G_{HG}|}{|G_{HG}|+|G_{EG}|}\n",
    "$$\n",
    "4. Percentage of nocturnal HG readings\n",
    "$$\n",
    "    \\text{Percentage of nocturnal HG} = \\frac{\\# hg \\text{ during nocturnal}}{\\# hg} = \\frac{|G_{HG_n}|}{|G_{HG}|}\\text{, where } G_{HG_n} = \\{g\\in G_{HG} | 0\\leq ts(g).hr <7 \\} \n",
    "$$\n",
    "5. Average heart rate \n",
    "6. Percentage of ECG beats that pass QC (quality check) \n",
    "$$\n",
    "    \\text{\\% ECG beats that pass QC} = \\frac{\\# \\text{clean ecg}}{\\# \\text{ecg}} = \\frac{|E^{QC}|}{|E|}\\text{, where } E^{QC} = \\{e\\in E | (HRC(e) \\geq 100) \\text{ and } (Noise(e)<0.001) \\} \n",
    "$$\n",
    "7. Percentage of hypo ECG beats that pass QC\n",
    "$$\n",
    "\\text{\\% hg ECG beats that pass QC} = \\frac{\\# \\text{clean hypo ecg}}{\\# \\text{clean ecg}} = \\frac{|E^{QC}_{HG}|}{|E^{QC}|}\\text{, where } E^{QC}_{HG} = \\{e\\in E^{QC} | glucose(e) < 70 \\} \n",
    "$$\n",
    "8. Percentage of nocturnal ECG beats that pass QC\n",
    "$$\n",
    "\\text{\\% nocturnal ECG beats that pass QC} = \\frac{\\# \\text{clean nocturnal ecg}}{\\# \\text{clean ecg}} = \\frac{|E^{QC}_{n}|}{|E^{QC}|}\\text{, where } E^{QC}_{n} = \\{e\\in E^{QC} | 0\\leq ts(e).hr <7 \\} \n",
    "$$"
   ]
  },
  {
   "cell_type": "markdown",
   "metadata": {},
   "source": [
    "#### CGM-Level"
   ]
  },
  {
   "cell_type": "code",
   "execution_count": 6,
   "metadata": {},
   "outputs": [],
   "source": [
    "hypo_threshold = 70\n",
    "df_glucose = filtered_df.drop_duplicates(subset='Timestamp', keep='first')"
   ]
  },
  {
   "cell_type": "code",
   "execution_count": 7,
   "metadata": {},
   "outputs": [
    {
     "name": "stdout",
     "output_type": "stream",
     "text": [
      "Average glucose in hg: 62.49\n",
      "Average glucose in eg: 108.33\n",
      "Percentage of HG readings: 0.0720\n",
      "Percentage of nocturnal HG readings 0.3828\n"
     ]
    }
   ],
   "source": [
    "# average glucose in hg\n",
    "average_glucose_in_hg = df_glucose[df_glucose['glucose'] < hypo_threshold]['glucose'].mean()\n",
    "print('Average glucose in hg: {:.2f}'.format(average_glucose_in_hg))\n",
    "average_glucose_in_eg = df_glucose[df_glucose['glucose'] >= hypo_threshold]['glucose'].mean()\n",
    "print('Average glucose in eg: {:.2f}'.format(average_glucose_in_eg))\n",
    "num_glucose_in_hg = df_glucose[df_glucose['glucose'] < hypo_threshold].shape[0]\n",
    "num_glucose_in_eg = df_glucose[df_glucose['glucose'] >= hypo_threshold].shape[0]\n",
    "print('Percentage of HG readings: {:.4f}'.format(num_glucose_in_hg / (num_glucose_in_hg + num_glucose_in_eg)))\n",
    "\n",
    "# Hypoglycemic readings at night (12-7am)\n",
    "nocturnal_hg = df_glucose[(df_glucose['Timestamp'].dt.hour >= 0) & (df_glucose['Timestamp'].dt.hour < 7)]\n",
    "num_nocturnal_glucose_in_hg = nocturnal_hg[nocturnal_hg['glucose'] < 70].shape[0]\n",
    "print('Percentage of nocturnal HG readings {:.4f}'.format(num_nocturnal_glucose_in_hg / num_glucose_in_hg))\n"
   ]
  },
  {
   "cell_type": "markdown",
   "metadata": {},
   "source": [
    "#### Beat-Level"
   ]
  },
  {
   "cell_type": "code",
   "execution_count": 8,
   "metadata": {},
   "outputs": [
    {
     "name": "stdout",
     "output_type": "stream",
     "text": [
      "Average HR: 70.95\n",
      "Percentage of ECG beats that pass QC: 0.7525\n",
      "Percentage of hypo ECG beats that pass QC: 0.0749\n",
      "Percentage of nocturnal ECG beats that pass QC: 0.2969\n"
     ]
    }
   ],
   "source": [
    "# Percentage of CGM readings below 70 mg/dl\n",
    "cgm_hypo = clean_df[clean_df['glucose'] < hypo_threshold]\n",
    "cgm_normal = clean_df[clean_df['glucose'] >= hypo_threshold]\n",
    "\n",
    "average_hypo_glucose = cgm_hypo['glucose'].mean()\n",
    "average_normal_glucose = cgm_normal['glucose'].mean()\n",
    "average_hr = clean_df['avg_HR'].mean()\n",
    "\n",
    "# Hypoglycemic readings at night (12-7am)\n",
    "night_cgm = df[(df['Timestamp'].dt.hour >= 0) & (df['Timestamp'].dt.hour < 7)]\n",
    "night_clean_cgm = clean_df[(clean_df['Timestamp'].dt.hour >= 0) & (clean_df['Timestamp'].dt.hour < 7)]\n",
    "\n",
    "print('Average HR: {:.2f}'.format(average_hr))\n",
    "# print('Percentage of clean hypo CGM readings: {:.3f}'.format(len(cgm_hypo) / len(filtered_df)))\n",
    "print('Percentage of ECG beats that pass QC: {:.4f}'.format(len(clean_df) / len(filtered_df)))\n",
    "print('Percentage of hypo ECG beats that pass QC: {:.4f}'.format(len(cgm_hypo) / len(clean_df)))\n",
    "print('Percentage of nocturnal ECG beats that pass QC: {:.4f}'.format(len(night_clean_cgm) / len(clean_df)))\n",
    "\n"
   ]
  },
  {
   "cell_type": "markdown",
   "metadata": {},
   "source": [
    "### Glucose Distribution"
   ]
  },
  {
   "cell_type": "code",
   "execution_count": 9,
   "metadata": {},
   "outputs": [
    {
     "data": {
      "image/png": "[encoded data removed]",
      "text/plain": [
       "<Figure size 640x480 with 1 Axes>"
      ]
     },
     "metadata": {},
     "output_type": "display_data"
    }
   ],
   "source": [
    "# generate the histogram of glucose levels\n",
    "bins = np.arange(40, 180, 5)\n",
    "hist, _ = np.histogram(clean_df['glucose'], bins=bins, density=True)\n",
    "\n",
    "plt.bar(bins[:-1], hist, width=5)\n",
    "plt.xlabel('Glucose Level (mg/dl)')\n",
    "plt.ylabel('Frequency')\n",
    "plt.title('Histogram of Glucose Levels - Subject {}'.format(subject_id))\n",
    "plt.show()\n"
   ]
  },
  {
   "cell_type": "code",
   "execution_count": null,
   "metadata": {},
   "outputs": [],
   "source": []
  }
 ],
 "metadata": {
  "kernelspec": {
   "display_name": "ecg",
   "language": "python",
   "name": "python3"
  },
  "language_info": {
   "codemirror_mode": {
    "name": "ipython",
    "version": 3
   },
   "file_extension": ".py",
   "mimetype": "text/x-python",
   "name": "python",
   "nbconvert_exporter": "python",
   "pygments_lexer": "ipython3",
   "version": "3.11.5"
  }
 },
 "nbformat": 4,
 "nbformat_minor": 2
}
